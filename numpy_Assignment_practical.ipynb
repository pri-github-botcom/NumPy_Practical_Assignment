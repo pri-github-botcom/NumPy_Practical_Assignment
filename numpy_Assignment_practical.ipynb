{
  "nbformat": 4,
  "nbformat_minor": 0,
  "metadata": {
    "colab": {
      "provenance": []
    },
    "kernelspec": {
      "name": "python3",
      "display_name": "Python 3"
    },
    "language_info": {
      "name": "python"
    }
  },
  "cells": [
    {
      "cell_type": "markdown",
      "source": [
        "#1) Create a 3*3 NumPy array between 1 and 100. Then interchange its rows and columns.\n",
        "\n",
        "Solution:"
      ],
      "metadata": {
        "id": "pc3XqZgtXJ5o"
      }
    },
    {
      "cell_type": "code",
      "source": [
        "import numpy as np\n",
        "# Create a 3*3 array with random integers between 1 and 100\n",
        "arr = np.random.randint(1,100, size=(3,3))\n",
        "arr"
      ],
      "metadata": {
        "colab": {
          "base_uri": "https://localhost:8080/"
        },
        "id": "3Xo9v-iOXVEl",
        "outputId": "23c7bef6-a56f-4cf3-8aed-514b208cdfba"
      },
      "execution_count": null,
      "outputs": [
        {
          "output_type": "execute_result",
          "data": {
            "text/plain": [
              "array([[41, 45, 29],\n",
              "       [29, 27, 88],\n",
              "       [44, 65, 31]])"
            ]
          },
          "metadata": {},
          "execution_count": 2
        }
      ]
    },
    {
      "cell_type": "code",
      "source": [
        "# for interchanging rows and columns using transpose() method;\n",
        "arr1 = arr.T\n",
        "arr1"
      ],
      "metadata": {
        "colab": {
          "base_uri": "https://localhost:8080/"
        },
        "id": "vxSy9wBTaB0O",
        "outputId": "9ca44288-0247-4683-d07e-01e347414205"
      },
      "execution_count": null,
      "outputs": [
        {
          "output_type": "execute_result",
          "data": {
            "text/plain": [
              "array([[41, 29, 44],\n",
              "       [45, 27, 65],\n",
              "       [29, 88, 31]])"
            ]
          },
          "metadata": {},
          "execution_count": 5
        }
      ]
    },
    {
      "cell_type": "markdown",
      "source": [
        "#2) Generate a 1D NumPy array with 10 elements. Reshape it into 2 * 5 array, and then into 5 * 2 array.\n",
        "\n",
        "Solution:"
      ],
      "metadata": {
        "id": "KqNDvkMSb_pb"
      }
    },
    {
      "cell_type": "code",
      "source": [
        "arr = np.arange(10) # Create a 1D NumPy array with 10 elements\n",
        "arr"
      ],
      "metadata": {
        "colab": {
          "base_uri": "https://localhost:8080/"
        },
        "id": "17jIPHYCcfRa",
        "outputId": "1fbe9cda-8bf1-4ffb-c286-f9cb60c0a350"
      },
      "execution_count": null,
      "outputs": [
        {
          "output_type": "execute_result",
          "data": {
            "text/plain": [
              "array([0, 1, 2, 3, 4, 5, 6, 7, 8, 9])"
            ]
          },
          "metadata": {},
          "execution_count": 6
        }
      ]
    },
    {
      "cell_type": "code",
      "source": [
        "arr1 = arr.reshape(2,5) # Reshape array into 2*5 array\n",
        "arr1"
      ],
      "metadata": {
        "colab": {
          "base_uri": "https://localhost:8080/"
        },
        "id": "AmbgXpJxczip",
        "outputId": "ae071c1e-85fd-481d-919f-ceb7d8377f0c"
      },
      "execution_count": null,
      "outputs": [
        {
          "output_type": "execute_result",
          "data": {
            "text/plain": [
              "array([[0, 1, 2, 3, 4],\n",
              "       [5, 6, 7, 8, 9]])"
            ]
          },
          "metadata": {},
          "execution_count": 7
        }
      ]
    },
    {
      "cell_type": "code",
      "source": [
        "arr2 = arr.reshape(5,2) # Reshape array into 5*2 array\n",
        "arr2"
      ],
      "metadata": {
        "colab": {
          "base_uri": "https://localhost:8080/"
        },
        "id": "JBq-HMNVc-5h",
        "outputId": "d88dca0d-6345-446b-a2d4-4c505cbdfb72"
      },
      "execution_count": null,
      "outputs": [
        {
          "output_type": "execute_result",
          "data": {
            "text/plain": [
              "array([[0, 1],\n",
              "       [2, 3],\n",
              "       [4, 5],\n",
              "       [6, 7],\n",
              "       [8, 9]])"
            ]
          },
          "metadata": {},
          "execution_count": 8
        }
      ]
    },
    {
      "cell_type": "markdown",
      "source": [
        "#3)  Create a 4 * 4 NumPy  array with random float values. Add a border of zeroes around it, resulting into 6 * 6 array.\n",
        "\n",
        "Solution:"
      ],
      "metadata": {
        "id": "FgHcMwcodpFZ"
      }
    },
    {
      "cell_type": "code",
      "source": [
        "arr = np.random.rand(4,4)\n",
        "arr"
      ],
      "metadata": {
        "colab": {
          "base_uri": "https://localhost:8080/"
        },
        "id": "oBVpaKJleJF0",
        "outputId": "637368e0-0194-4b7f-8cd1-3a4a5e18f8b8"
      },
      "execution_count": null,
      "outputs": [
        {
          "output_type": "execute_result",
          "data": {
            "text/plain": [
              "array([[0.40736269, 0.32887734, 0.18725023, 0.82648252],\n",
              "       [0.79321783, 0.20245337, 0.61841129, 0.58215581],\n",
              "       [0.1762788 , 0.4041765 , 0.52456816, 0.91604374],\n",
              "       [0.53089633, 0.15610944, 0.02395427, 0.34892001]])"
            ]
          },
          "metadata": {},
          "execution_count": 11
        }
      ]
    },
    {
      "cell_type": "code",
      "source": [
        "# Add a border of zeroes using np.pad() function;\n",
        "arr1 = np.pad(arr, pad_width =1, mode= 'constant', constant_values= 0)\n",
        "print(arr1)"
      ],
      "metadata": {
        "colab": {
          "base_uri": "https://localhost:8080/"
        },
        "id": "Y-uKZ-NKerD7",
        "outputId": "7eebf26e-553f-41e9-d364-4ff0e0725016"
      },
      "execution_count": null,
      "outputs": [
        {
          "output_type": "stream",
          "name": "stdout",
          "text": [
            "[[0.         0.         0.         0.         0.         0.        ]\n",
            " [0.         0.40736269 0.32887734 0.18725023 0.82648252 0.        ]\n",
            " [0.         0.79321783 0.20245337 0.61841129 0.58215581 0.        ]\n",
            " [0.         0.1762788  0.4041765  0.52456816 0.91604374 0.        ]\n",
            " [0.         0.53089633 0.15610944 0.02395427 0.34892001 0.        ]\n",
            " [0.         0.         0.         0.         0.         0.        ]]\n"
          ]
        }
      ]
    },
    {
      "cell_type": "markdown",
      "source": [
        "#4) Using NumPy create a array of integers from 10 to 60 with a step of 5.\n",
        "\n",
        "Solution:  \n",
        "\n"
      ],
      "metadata": {
        "id": "juhbkWZvp0S_"
      }
    },
    {
      "cell_type": "code",
      "source": [
        "arr = np.arange(10,60,5) # Create an array of integers from 10 and 60 with a step of 5.\n",
        "arr"
      ],
      "metadata": {
        "colab": {
          "base_uri": "https://localhost:8080/"
        },
        "id": "EYvbHIA-qXLP",
        "outputId": "d64792fc-3978-4c7c-e10d-bf18eb097798"
      },
      "execution_count": null,
      "outputs": [
        {
          "output_type": "execute_result",
          "data": {
            "text/plain": [
              "array([10, 15, 20, 25, 30, 35, 40, 45, 50, 55])"
            ]
          },
          "metadata": {},
          "execution_count": 34
        }
      ]
    },
    {
      "cell_type": "markdown",
      "source": [
        "# 5) Create a array of strings ['python', 'numpy', 'pandas']. Apply different transformation (uppercase, lowercase and titlecase etc.) to each element.\n",
        "\n",
        "Solution:"
      ],
      "metadata": {
        "id": "k96lz6w9rVk_"
      }
    },
    {
      "cell_type": "code",
      "source": [
        "arr = np.array(['Python', 'NumPy', 'Pandas']) # Create a array of strings\n",
        "arr"
      ],
      "metadata": {
        "colab": {
          "base_uri": "https://localhost:8080/"
        },
        "id": "he6Hv6K7tB-I",
        "outputId": "9e2a239e-c55d-473c-ac82-f9b43b1f9f8d"
      },
      "execution_count": null,
      "outputs": [
        {
          "output_type": "execute_result",
          "data": {
            "text/plain": [
              "array(['Python', 'NumPy', 'Pandas'], dtype='<U6')"
            ]
          },
          "metadata": {},
          "execution_count": 36
        }
      ]
    },
    {
      "cell_type": "code",
      "source": [
        "# uppercase transformation;\n",
        "arr1= np.char.upper(arr)\n",
        "arr1"
      ],
      "metadata": {
        "colab": {
          "base_uri": "https://localhost:8080/"
        },
        "id": "94ztQapEzJEq",
        "outputId": "8598fac5-972f-467e-e500-1909cbf4cad5"
      },
      "execution_count": null,
      "outputs": [
        {
          "output_type": "execute_result",
          "data": {
            "text/plain": [
              "array(['PYTHON', 'NUMPY', 'PANDAS'], dtype='<U6')"
            ]
          },
          "metadata": {},
          "execution_count": 37
        }
      ]
    },
    {
      "cell_type": "code",
      "source": [
        "# Lowercase transformation;\n",
        "arr2 = np.char.lower(arr)\n",
        "arr2"
      ],
      "metadata": {
        "colab": {
          "base_uri": "https://localhost:8080/"
        },
        "id": "3IRMr1rfzpzc",
        "outputId": "cb3299aa-26ba-4784-87bf-aac1b645f6b8"
      },
      "execution_count": null,
      "outputs": [
        {
          "output_type": "execute_result",
          "data": {
            "text/plain": [
              "array(['python', 'numpy', 'pandas'], dtype='<U6')"
            ]
          },
          "metadata": {},
          "execution_count": 38
        }
      ]
    },
    {
      "cell_type": "code",
      "source": [
        "# Titlecase transformation;\n",
        "arr3 = np.char.title(arr)\n",
        "arr3"
      ],
      "metadata": {
        "colab": {
          "base_uri": "https://localhost:8080/"
        },
        "id": "s28vdV3_z1io",
        "outputId": "9d7d8af4-c227-46dc-d1bf-b3ad2ef06825"
      },
      "execution_count": null,
      "outputs": [
        {
          "output_type": "execute_result",
          "data": {
            "text/plain": [
              "array(['Python', 'Numpy', 'Pandas'], dtype='<U6')"
            ]
          },
          "metadata": {},
          "execution_count": 39
        }
      ]
    },
    {
      "cell_type": "markdown",
      "source": [
        "#6) Generate a array of words. Insert a space between each character of every word in the array.\n",
        "\n",
        "Solution:"
      ],
      "metadata": {
        "id": "ItG_14UE0X5s"
      }
    },
    {
      "cell_type": "code",
      "source": [
        "words = np.array(['Aadhyavi', 'is', 'a', 'data', 'science', 'student'])\n",
        "spaced_words = np.char.join(' ', words)\n",
        "spaced_words"
      ],
      "metadata": {
        "colab": {
          "base_uri": "https://localhost:8080/"
        },
        "id": "2Q3TRqvo037r",
        "outputId": "c083f4b2-c4ae-440e-f6ae-4069865c6f08"
      },
      "execution_count": null,
      "outputs": [
        {
          "output_type": "execute_result",
          "data": {
            "text/plain": [
              "array(['A a d h y a v i', 'i s', 'a', 'd a t a', 's c i e n c e',\n",
              "       's t u d e n t'], dtype='<U15')"
            ]
          },
          "metadata": {},
          "execution_count": 11
        }
      ]
    },
    {
      "cell_type": "markdown",
      "source": [
        "# 7) Create two 2D arrays and perform element wise addition, multiplication, substraction and division.\n",
        "\n",
        "Solution:"
      ],
      "metadata": {
        "id": "pjZhh8YS05xr"
      }
    },
    {
      "cell_type": "code",
      "source": [
        "arr1 = np.array([[13,24,36,45,54,61]])\n",
        "arr2 = np.array([[9,14,25,42,63,52]])\n",
        "\n",
        "arr_addition = arr1 + arr2   # addition of two arrays\n",
        "print(f\"Addition of two values are: {arr_addition}\")\n",
        "arr_multiplication = arr1 * arr2   # multiplication of two arrays\n",
        "print(f\" Multiplication of two values is: {arr_multiplication}\")\n",
        "arr_substraction = arr1 - arr2   # substraction of two arrays\n",
        "print(f\"Substraction of two values is: {arr_substraction}\")\n",
        "arr_division = arr1 / arr2   # division of two arrays\n",
        "print(f\"Division of two values is: {arr_division}\")"
      ],
      "metadata": {
        "colab": {
          "base_uri": "https://localhost:8080/"
        },
        "id": "4tJNlFfl1P6Z",
        "outputId": "151bf2d7-aa35-47ee-dd35-6401c4a22c66"
      },
      "execution_count": null,
      "outputs": [
        {
          "output_type": "stream",
          "name": "stdout",
          "text": [
            "Addition of two values are: [[ 22  38  61  87 117 113]]\n",
            " Multiplication of two values is: [[ 117  336  900 1890 3402 3172]]\n",
            "Substraction of two values is: [[ 4 10 11  3 -9  9]]\n",
            "Division of two values is: [[1.44444444 1.71428571 1.44       1.07142857 0.85714286 1.17307692]]\n"
          ]
        }
      ]
    },
    {
      "cell_type": "markdown",
      "source": [
        "#8) Use NumPy to create 5 * 5 indentity matrix, then extract its diagonal elements.\n",
        "\n",
        "Solution:"
      ],
      "metadata": {
        "id": "qEET-URU1QQx"
      }
    },
    {
      "cell_type": "code",
      "source": [
        "arr = np.eye(5)\n",
        "arr"
      ],
      "metadata": {
        "colab": {
          "base_uri": "https://localhost:8080/"
        },
        "id": "JOnYyS8a1qu_",
        "outputId": "20a5995f-4060-45e1-e416-3ef53dac140c"
      },
      "execution_count": null,
      "outputs": [
        {
          "output_type": "execute_result",
          "data": {
            "text/plain": [
              "array([[1., 0., 0., 0., 0.],\n",
              "       [0., 1., 0., 0., 0.],\n",
              "       [0., 0., 1., 0., 0.],\n",
              "       [0., 0., 0., 1., 0.],\n",
              "       [0., 0., 0., 0., 1.]])"
            ]
          },
          "metadata": {},
          "execution_count": 47
        }
      ]
    },
    {
      "cell_type": "markdown",
      "source": [
        "#9) Generate a NumPy array of 100 random integers between 1 and 1000.Find and display all the prime numbers in this array.\n",
        "\n",
        "Solution:"
      ],
      "metadata": {
        "id": "iheaQC4D1rFX"
      }
    },
    {
      "cell_type": "code",
      "source": [
        "arr = np.random.randint(1,1000, size=100)\n",
        "arr"
      ],
      "metadata": {
        "colab": {
          "base_uri": "https://localhost:8080/"
        },
        "id": "n1yvBB2j2GFa",
        "outputId": "cd1500c0-1371-420d-a4bd-1934eeb5049f"
      },
      "execution_count": null,
      "outputs": [
        {
          "output_type": "execute_result",
          "data": {
            "text/plain": [
              "array([579, 898, 364, 294, 638, 820, 943,  62,  59, 481, 217, 657,  89,\n",
              "       821, 686, 976, 726, 684, 293, 415, 977,  10, 720, 252, 271, 734,\n",
              "       734, 463, 201, 696, 768, 631, 757, 785, 397, 771, 713, 916, 453,\n",
              "       809, 794,  58, 785, 132, 597, 892, 931, 490,  24, 647, 757, 981,\n",
              "       825, 538, 716, 887,  25, 410, 219, 216, 764, 878, 613, 105, 654,\n",
              "       452, 136, 717, 816, 680,  46, 379, 220, 473, 975, 491, 353, 396,\n",
              "       253,  17,  53, 747, 403,  35, 133,  52, 996, 544,  96, 814, 346,\n",
              "       542, 207, 971, 758, 108, 789, 780, 423, 977])"
            ]
          },
          "metadata": {},
          "execution_count": 18
        }
      ]
    },
    {
      "cell_type": "code",
      "source": [
        "def is_prime(num):\n",
        "    if num < 2:\n",
        "        return False\n",
        "    for i in range(2, int(np.sqrt(num)) +1):\n",
        "      if num % i == 0:\n",
        "        return False\n",
        "    return True\n",
        "\n",
        "\n",
        "prime_numbers = [num for num in arr if is_prime(num)]\n",
        "print(\"Prime numbers in the array:\", prime_numbers)"
      ],
      "metadata": {
        "colab": {
          "base_uri": "https://localhost:8080/"
        },
        "id": "y9oqfQiYXnLj",
        "outputId": "394a8648-fc9f-4e10-b758-608be0308dc9"
      },
      "execution_count": null,
      "outputs": [
        {
          "output_type": "stream",
          "name": "stdout",
          "text": [
            "Prime numbers in the array: [59, 89, 821, 293, 977, 271, 463, 631, 757, 397, 809, 647, 757, 887, 613, 379, 491, 353, 17, 53, 971, 977]\n"
          ]
        }
      ]
    },
    {
      "cell_type": "markdown",
      "source": [
        "# 10) Create a NumPy array representing daily temperatures for a month. Calculate and display the weekly average.\n",
        "\n",
        "Solution:"
      ],
      "metadata": {
        "id": "ScILt0I82GZv"
      }
    },
    {
      "cell_type": "code",
      "source": [
        "daily_temp = np.random.uniform(15,35, size = 30)\n",
        "daily_temp"
      ],
      "metadata": {
        "colab": {
          "base_uri": "https://localhost:8080/"
        },
        "id": "KgZqyhdVMuSK",
        "outputId": "0ce49994-3034-4e91-dda1-46d57b584c24"
      },
      "execution_count": null,
      "outputs": [
        {
          "output_type": "execute_result",
          "data": {
            "text/plain": [
              "array([30.03511285, 25.85781003, 32.59012649, 32.84205503, 19.03633722,\n",
              "       25.90552648, 18.59107683, 24.39312467, 32.51156971, 22.16366191,\n",
              "       26.03687895, 19.17344835, 32.1366368 , 33.23808087, 27.31108114,\n",
              "       23.29578137, 21.38794994, 26.67927016, 16.34512244, 34.90471209,\n",
              "       27.54982591, 22.5579823 , 21.3630396 , 34.70825967, 30.20819691,\n",
              "       25.06985898, 21.27024515, 15.9223654 , 17.33237409, 26.46761356])"
            ]
          },
          "metadata": {},
          "execution_count": 3
        }
      ]
    },
    {
      "cell_type": "code",
      "source": [
        "# Calculate and display the weekly average;\n",
        "\n",
        "week_1 = daily_temp[:7]\n",
        "week_2 = daily_temp[7:14]\n",
        "week_3 = daily_temp[14:21]\n",
        "week_4 = daily_temp[21:]\n",
        "\n",
        "week_1_avg = np.mean(week_1)\n",
        "week_2_avg = np.mean(week_2)\n",
        "week_3_avg = np.mean(week_3)\n",
        "week_4_avg = np.mean(week_4)\n",
        "\n",
        "print(f\"Week 1 average temperature: {week_1_avg:.2f} degrees\")\n",
        "print(f\"Week 2 average temperature: {week_2_avg:.2f} degrees\")\n",
        "print(f\"Week 3 average temperature: {week_3_avg:.2f} degrees\")\n",
        "print(f\"Week 4 average temperature: {week_4_avg:.2f} degrees\")"
      ],
      "metadata": {
        "colab": {
          "base_uri": "https://localhost:8080/"
        },
        "id": "RKGQZGFQgFBA",
        "outputId": "c2ca0345-fadb-4cf3-bc43-24033c80e9c8"
      },
      "execution_count": null,
      "outputs": [
        {
          "output_type": "stream",
          "name": "stdout",
          "text": [
            "Week 1 average temperature: 26.41 degrees\n",
            "Week 2 average temperature: 27.09 degrees\n",
            "Week 3 average temperature: 25.35 degrees\n",
            "Week 4 average temperature: 23.88 degrees\n"
          ]
        }
      ]
    }
  ]
}